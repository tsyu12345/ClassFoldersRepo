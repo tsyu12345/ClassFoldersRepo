{
 "cells": [
  {
   "attachments": {},
   "cell_type": "markdown",
   "metadata": {},
   "source": [
    "```cpp\n",
    "while(<条件式>) {\n",
    "    ...\n",
    "    処理１\n",
    "    処理２\n",
    "    ...\n",
    "}\n",
    "\n",
    "for(<初期化式>; <条件式>; <更新式>) {\n",
    "    ...\n",
    "    （繰り返し処理）\n",
    "    ...\n",
    "}\n",
    "\n",
    "\n",
    "for(<型> <変数名> : <イテラブル>) {\n",
    "    ...\n",
    "    （繰り返し処理）\n",
    "    ...\n",
    "}\n",
    "```"
   ]
  }
 ],
 "metadata": {
  "language_info": {
   "name": "python"
  },
  "orig_nbformat": 4
 },
 "nbformat": 4,
 "nbformat_minor": 2
}
