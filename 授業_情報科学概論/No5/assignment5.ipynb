{
 "cells": [
  {
   "attachments": {},
   "cell_type": "markdown",
   "metadata": {},
   "source": [
    "# 課題5-1\n",
    "以下のプログラムはプログラマの意図どおりに動作しません。 print の出力内容から意図を判断して条件分岐を書き換えてください。\n",
    "```python\n",
    "x = -1\n",
    "if x < 3:\n",
    "    print('x is larger than or equal to 2, and less than 3')\n",
    "elif x < 2:\n",
    "    print('x is larger than or equal to 1, and less than 2')\n",
    "elif x < 1:\n",
    "    print('x is less than 1')\n",
    "else:\n",
    "    print('x is larger or equal to 3')\n",
    "```\n"
   ]
  },
  {
   "cell_type": "code",
   "execution_count": 2,
   "metadata": {},
   "outputs": [
    {
     "name": "stdout",
     "output_type": "stream",
     "text": [
      "x is less than 1\n"
     ]
    }
   ],
   "source": [
    "#解答\n",
    "\n",
    "x = -1\n",
    "if x >= 2 and x < 3:\n",
    "    print('x is larger than or equal to 2, and less than 3')\n",
    "elif x >= 1 and x < 2:\n",
    "    print('x is larger than or equal to 1, and less than 2')\n",
    "elif x < 1:\n",
    "    print('x is less than 1')\n",
    "else:\n",
    "    print('x is larger or equal to 3')\n",
    "\n"
   ]
  },
  {
   "attachments": {},
   "cell_type": "markdown",
   "metadata": {},
   "source": [
    "# 課題5-2 \n",
    "実数 x,y,z が与えられたとき，x,y,zを三辺の長さとする三角形が「正三角形」，「二等辺三角形」，「正三角形でも二等辺三角形でもない三角形」，「三角形が構成できない」のいずれになるかを出力するプログラムを作成せよ．なお，プログラムの最初の3行は\n",
    "\n",
    "x=3\n",
    "y=4\n",
    "z=5\n",
    "\n",
    "として x,y,z の値を設定し，変数 x,y,z を用いてプログラムを作成すること．出力は\n",
    "print(\"正三角形\")\n",
    "print(\"二等辺三角形\")\n",
    "print(\"正三角形でも二等辺三角形でもない三角形\")\n",
    "print(\"三角形が構成できない\")\n",
    "を用いよ．"
   ]
  },
  {
   "cell_type": "code",
   "execution_count": 3,
   "metadata": {},
   "outputs": [
    {
     "name": "stdout",
     "output_type": "stream",
     "text": [
      "正三角形でも二等辺三角形でもない三角形\n"
     ]
    }
   ],
   "source": [
    "#解答\n",
    "\n",
    "x = 3\n",
    "y = 4\n",
    "z = 5\n",
    "\n",
    "#三角形の成立条件：2辺の和が残りの1辺よりも大きいを判定\n",
    "if x + y > z and x + z > y and y + z > x:\n",
    "    if x == y == z:\n",
    "        print(\"正三角形\")\n",
    "    elif x == y or x == z or y == z:\n",
    "        print(\"二等辺三角形\")\n",
    "    else:\n",
    "        print(\"正三角形でも二等辺三角形でもない三角形\")\n",
    "else:\n",
    "    print(\"三角形が構成できない\")\n",
    "\n",
    "\n"
   ]
  }
 ],
 "metadata": {
  "kernelspec": {
   "display_name": "Python 3",
   "language": "python",
   "name": "python3"
  },
  "language_info": {
   "codemirror_mode": {
    "name": "ipython",
    "version": 3
   },
   "file_extension": ".py",
   "mimetype": "text/x-python",
   "name": "python",
   "nbconvert_exporter": "python",
   "pygments_lexer": "ipython3",
   "version": "3.10.5"
  },
  "orig_nbformat": 4
 },
 "nbformat": 4,
 "nbformat_minor": 2
}
