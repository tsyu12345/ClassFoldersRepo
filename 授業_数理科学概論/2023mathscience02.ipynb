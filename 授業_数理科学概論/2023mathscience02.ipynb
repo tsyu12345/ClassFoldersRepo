{
  "nbformat": 4,
  "nbformat_minor": 0,
  "metadata": {
    "colab": {
      "provenance": []
    },
    "kernelspec": {
      "name": "python3",
      "display_name": "Python 3"
    }
  },
  "cells": [
    {
      "cell_type": "markdown",
      "metadata": {
        "id": "eiZ0rBFPoM-_"
      },
      "source": [
        "# 数理科学概論 第2回\n",
        "## 2023/4/22\n",
        "## ベクトル\n"
      ]
    },
    {
      "cell_type": "code",
      "metadata": {
        "id": "1-coMI2WoLaQ"
      },
      "source": [
        "import numpy as np"
      ],
      "execution_count": 1,
      "outputs": []
    },
    {
      "cell_type": "markdown",
      "metadata": {
        "id": "9C4UqHE5ooMk"
      },
      "source": [
        "## 演習問題\n",
        "ベクトル\n",
        "$$\\vec{r} = \\left( \n",
        "\\begin{matrix}\n",
        "0  \\\\\n",
        "-100  \\\\\n",
        "100\n",
        "\\end{matrix}\n",
        "\\right), ~~\n",
        "\\vec{g} = \\left( \n",
        "\\begin{matrix}\n",
        "-50  \\\\\n",
        "-100  \\\\\n",
        "150\n",
        "\\end{matrix}\n",
        "\\right), ~~\n",
        "\\vec{n} = \\left( \n",
        "\\begin{matrix}\n",
        "-5  \\\\\n",
        "15  \\\\\n",
        "-10\n",
        "\\end{matrix}\n",
        "\\right)$$\n",
        "に対して、内積 $\\vec{r} \\cdot \\vec{g}, ~~\n",
        "\\vec{g} \\cdot \\vec{n}, ~~\n",
        "\\vec{n} \\cdot \\vec{r}$ をそれぞれ求めよ。\n"
      ]
    },
    {
      "cell_type": "code",
      "metadata": {
        "id": "r3Tw9pmwoI_7"
      },
      "source": [
        "# ベクトルは numpy array を使うと便利\n",
        "r = np.array([0, -100, 100])\n",
        "g = np.array([-50, -100, 150])\n",
        "n = np.array([-5, 15, -10])"
      ],
      "execution_count": 2,
      "outputs": []
    },
    {
      "cell_type": "code",
      "metadata": {
        "id": "rNPzjB4MoJPm",
        "colab": {
          "base_uri": "https://localhost:8080/"
        },
        "outputId": "daba2f89-7ae8-427d-cb9e-70f437ef1166"
      },
      "source": [
        "# 内積の計算\n",
        "np.dot(r, g)"
      ],
      "execution_count": 3,
      "outputs": [
        {
          "output_type": "execute_result",
          "data": {
            "text/plain": [
              "25000"
            ]
          },
          "metadata": {},
          "execution_count": 3
        }
      ]
    },
    {
      "cell_type": "code",
      "metadata": {
        "colab": {
          "base_uri": "https://localhost:8080/"
        },
        "id": "9zD6zN6n7NPF",
        "outputId": "07670563-0f50-44e6-885a-1c04b67aa1c8"
      },
      "source": [
        "np.dot(g, n)"
      ],
      "execution_count": 4,
      "outputs": [
        {
          "output_type": "execute_result",
          "data": {
            "text/plain": [
              "-2750"
            ]
          },
          "metadata": {},
          "execution_count": 4
        }
      ]
    },
    {
      "cell_type": "code",
      "metadata": {
        "colab": {
          "base_uri": "https://localhost:8080/"
        },
        "id": "Mm7423DD7NZV",
        "outputId": "1d8d78d9-724f-46e7-c2b5-f658d5e12744"
      },
      "source": [
        "np.dot(n, r)"
      ],
      "execution_count": 5,
      "outputs": [
        {
          "output_type": "execute_result",
          "data": {
            "text/plain": [
              "-2500"
            ]
          },
          "metadata": {},
          "execution_count": 5
        }
      ]
    },
    {
      "cell_type": "code",
      "metadata": {
        "id": "MXMK5KqIpKm8",
        "colab": {
          "base_uri": "https://localhost:8080/"
        },
        "outputId": "da8dcb3a-ff47-42e1-b711-c0d7486c5e39"
      },
      "source": [
        "# 内積は @ でも表記可能\n",
        "r @ g"
      ],
      "execution_count": 6,
      "outputs": [
        {
          "output_type": "execute_result",
          "data": {
            "text/plain": [
              "25000"
            ]
          },
          "metadata": {},
          "execution_count": 6
        }
      ]
    },
    {
      "cell_type": "code",
      "metadata": {
        "id": "Px-yxwFYp_Sw",
        "colab": {
          "base_uri": "https://localhost:8080/"
        },
        "outputId": "c0e7d55e-f540-46a2-ddf0-205c46af886d"
      },
      "source": [
        "# 成分計算しても求められる。\n",
        "np.sum(r*g)"
      ],
      "execution_count": 7,
      "outputs": [
        {
          "output_type": "execute_result",
          "data": {
            "text/plain": [
              "25000"
            ]
          },
          "metadata": {},
          "execution_count": 7
        }
      ]
    },
    {
      "cell_type": "markdown",
      "metadata": {
        "id": "Wb9NrZ_B7dhU"
      },
      "source": [
        "##ベクトルの計算\n"
      ]
    },
    {
      "cell_type": "code",
      "metadata": {
        "id": "tEHY0mbWQRfq",
        "colab": {
          "base_uri": "https://localhost:8080/"
        },
        "outputId": "85e1f6f2-e581-4a46-9b39-07dae8186c9c"
      },
      "source": [
        "# ベクトルの和\n",
        "r+g"
      ],
      "execution_count": 8,
      "outputs": [
        {
          "output_type": "execute_result",
          "data": {
            "text/plain": [
              "array([ -50, -200,  250])"
            ]
          },
          "metadata": {},
          "execution_count": 8
        }
      ]
    },
    {
      "cell_type": "code",
      "metadata": {
        "colab": {
          "base_uri": "https://localhost:8080/"
        },
        "id": "56C4hYVM734w",
        "outputId": "376fe82b-e40a-4d84-fc9e-12cc1fd69c3f"
      },
      "source": [
        "# ベクトルの大きさ (ユークリッドノルム)\n",
        "np.linalg.norm(r)"
      ],
      "execution_count": 9,
      "outputs": [
        {
          "output_type": "execute_result",
          "data": {
            "text/plain": [
              "141.4213562373095"
            ]
          },
          "metadata": {},
          "execution_count": 9
        }
      ]
    },
    {
      "cell_type": "code",
      "metadata": {
        "colab": {
          "base_uri": "https://localhost:8080/"
        },
        "id": "oDTo9wnM7-Xg",
        "outputId": "9ecbae75-07ad-4706-b502-e2008604075e"
      },
      "source": [
        "# ベクトルの大きさを成分から計算\n",
        "np.sqrt(np.sum(r**2))"
      ],
      "execution_count": 10,
      "outputs": [
        {
          "output_type": "execute_result",
          "data": {
            "text/plain": [
              "141.4213562373095"
            ]
          },
          "metadata": {},
          "execution_count": 10
        }
      ]
    },
    {
      "cell_type": "markdown",
      "metadata": {
        "id": "cT2aM0WQvcyy"
      },
      "source": [
        "## ベクトル計算と統計量\n",
        "\n",
        "偏差ベクトルに対して、\bデータ数 (ベクトルの次元数) を $N$ とする。\n",
        "- [ベクトルの大きさ]$^2/N =$ 分散"
      ]
    },
    {
      "cell_type": "code",
      "metadata": {
        "colab": {
          "base_uri": "https://localhost:8080/"
        },
        "id": "LRpREy_VnjyT",
        "outputId": "86c8f104-2a80-4a80-d7a6-8a1663f2e2da"
      },
      "source": [
        "# [ベクトルの大きさ]の二乗/Nの計算\n",
        "# Python では変数名の大文字と小文字は区別される\n",
        "N = len(r)\n",
        "np.linalg.norm(r)**2 / N"
      ],
      "execution_count": 11,
      "outputs": [
        {
          "output_type": "execute_result",
          "data": {
            "text/plain": [
              "6666.666666666667"
            ]
          },
          "metadata": {},
          "execution_count": 11
        }
      ]
    },
    {
      "cell_type": "code",
      "metadata": {
        "colab": {
          "base_uri": "https://localhost:8080/"
        },
        "id": "Brdu51Vzn0Ga",
        "outputId": "27c63634-18ce-4a99-9322-8780a3efcf0d"
      },
      "source": [
        "# ライブラリを使って分散を計算\n",
        "np.var(r)"
      ],
      "execution_count": 12,
      "outputs": [
        {
          "output_type": "execute_result",
          "data": {
            "text/plain": [
              "6666.666666666667"
            ]
          },
          "metadata": {},
          "execution_count": 12
        }
      ]
    },
    {
      "cell_type": "markdown",
      "metadata": {
        "id": "X5yCKq-zoY6b"
      },
      "source": [
        "- 内積$/N =$ 共分散"
      ]
    },
    {
      "cell_type": "code",
      "metadata": {
        "colab": {
          "base_uri": "https://localhost:8080/"
        },
        "id": "7BLZLyPMoxjF",
        "outputId": "c62db144-5b55-4aac-ef78-f33059506909"
      },
      "source": [
        "# 内積/Nの計算\n",
        "np.dot(r, g)/N"
      ],
      "execution_count": 13,
      "outputs": [
        {
          "output_type": "execute_result",
          "data": {
            "text/plain": [
              "8333.333333333334"
            ]
          },
          "metadata": {},
          "execution_count": 13
        }
      ]
    },
    {
      "cell_type": "code",
      "metadata": {
        "colab": {
          "base_uri": "https://localhost:8080/"
        },
        "id": "oUl_rtNdo-YB",
        "outputId": "ce6f9b45-d664-47e3-9827-475b1e7e44b7"
      },
      "source": [
        "# ライブラリを使って共分散を計算。\n",
        "# 単に共分散を求めるには bias=True のオプションを指定する。\n",
        "# これを入れないと、デフォルトでは不偏共分散 (母集団の共分散の推定値) が算出される。\n",
        "# 4つの出力のうち右上、左下が共分散。左上、右下は r, g の分散。\n",
        "np.cov(r, g, bias=True)"
      ],
      "execution_count": 14,
      "outputs": [
        {
          "output_type": "execute_result",
          "data": {
            "text/plain": [
              "array([[ 6666.66666667,  8333.33333333],\n",
              "       [ 8333.33333333, 11666.66666667]])"
            ]
          },
          "metadata": {},
          "execution_count": 14
        }
      ]
    },
    {
      "cell_type": "markdown",
      "metadata": {
        "id": "dE5_RdevpY6E"
      },
      "source": [
        "- コサイン類似度 $=$ 相関係数"
      ]
    },
    {
      "cell_type": "code",
      "metadata": {
        "id": "qKcum0Qo9L1Q",
        "colab": {
          "base_uri": "https://localhost:8080/"
        },
        "outputId": "80fdeab5-c65a-4744-ff4e-0a6c449bbb79"
      },
      "source": [
        "# g と n のコサイン類似度の計算。内積/[g の大きさ]/[n の大きさ]\n",
        "np.dot(g, n)/np.linalg.norm(g)/np.linalg.norm(n)"
      ],
      "execution_count": 15,
      "outputs": [
        {
          "output_type": "execute_result",
          "data": {
            "text/plain": [
              "-0.7857142857142857"
            ]
          },
          "metadata": {},
          "execution_count": 15
        }
      ]
    },
    {
      "cell_type": "code",
      "metadata": {
        "colab": {
          "base_uri": "https://localhost:8080/"
        },
        "id": "OO4OfOrYXOK4",
        "outputId": "4f72b34b-40f5-43b3-88f5-3b1c929be75e"
      },
      "source": [
        "# ライブラリで相関係数を計算。\n",
        "# 4つの出力のうち右上、左下が相関係数。左上、右下は自分自身に対する相関係数 (なので常に1)。\n",
        "np.corrcoef(g, n)"
      ],
      "execution_count": 16,
      "outputs": [
        {
          "output_type": "execute_result",
          "data": {
            "text/plain": [
              "array([[ 1.        , -0.78571429],\n",
              "       [-0.78571429,  1.        ]])"
            ]
          },
          "metadata": {},
          "execution_count": 16
        }
      ]
    }
  ]
}