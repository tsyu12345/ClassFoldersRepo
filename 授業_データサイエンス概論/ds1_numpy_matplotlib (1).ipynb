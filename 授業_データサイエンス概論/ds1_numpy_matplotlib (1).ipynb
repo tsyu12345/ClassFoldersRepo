{
  "cells": [
    {
      "cell_type": "markdown",
      "metadata": {
        "id": "rzilyRAF87sP"
      },
      "source": [
        "# numpy 最初の一歩\n",
        "まずは、numpy の基本となる型の多次元配列 N-dimensional array (**ndarray**)に慣れよう。\n",
        "numpy モジュールをインポートし、1, 2, 3, 4, 5 という５つの整数の集合を表す ndarray 型の変数aを定義する。"
      ]
    },
    {
      "cell_type": "code",
      "execution_count": 2,
      "metadata": {
        "colab": {
          "base_uri": "https://localhost:8080/"
        },
        "id": "k8Fu4pmzA6JM",
        "outputId": "942b1b1c-a672-49cf-d4d1-ebcaea980319"
      },
      "outputs": [
        {
          "name": "stdout",
          "output_type": "stream",
          "text": [
            "最初の一歩\n",
            "[1 2 3 4 5]\n"
          ]
        }
      ],
      "source": [
        "import numpy as np\n",
        "a = np.array([1, 2, 3, 4, 5])\n",
        "#type(a) #型名の表示\n",
        "#a.dtype #要素の型名\n",
        "\n",
        "print(\"最初の一歩\") \n",
        "print(a)"
      ]
    },
    {
      "cell_type": "code",
      "execution_count": 3,
      "metadata": {
        "colab": {
          "base_uri": "https://localhost:8080/"
        },
        "id": "389F5gcElu_l",
        "outputId": "769c8ba6-e232-4459-875a-d0a8bf5bde80"
      },
      "outputs": [
        {
          "name": "stdout",
          "output_type": "stream",
          "text": [
            "15\n",
            "3.0\n",
            "5\n"
          ]
        }
      ],
      "source": [
        "#要素の合計、平均、最大値\n",
        "print(a.sum())\n",
        "print(a.mean())\n",
        "print(a.max())\n"
      ]
    },
    {
      "cell_type": "markdown",
      "metadata": {
        "id": "ri4d2nJZDakM"
      },
      "source": [
        "リストと同様の方法で、各要素を編集できる。たとえば、３番目の要素を整数10にして、\n",
        "４番目の要素を1000にするには："
      ]
    },
    {
      "cell_type": "code",
      "execution_count": 4,
      "metadata": {
        "colab": {
          "base_uri": "https://localhost:8080/"
        },
        "id": "y0TqgbxTDjX9",
        "outputId": "5a5dcc02-c44f-4c30-d3df-37da678ba51f"
      },
      "outputs": [
        {
          "name": "stdout",
          "output_type": "stream",
          "text": [
            "[   1    2   10 1000    5]\n"
          ]
        }
      ],
      "source": [
        "a[2]=10\n",
        "a[3]=1000\n",
        "print(a)"
      ]
    },
    {
      "cell_type": "markdown",
      "metadata": {
        "id": "5b45H6FLD-qR"
      },
      "source": [
        "要素の追加は次のように行う。たとえば、[100, 200] を追加しよう。"
      ]
    },
    {
      "cell_type": "code",
      "execution_count": 5,
      "metadata": {
        "colab": {
          "base_uri": "https://localhost:8080/"
        },
        "id": "PdXZHueREJVd",
        "outputId": "4ef1d390-f09d-4c33-b413-3c07415d5e91"
      },
      "outputs": [
        {
          "name": "stdout",
          "output_type": "stream",
          "text": [
            "[   1    2   10 1000    5  100  200]\n"
          ]
        }
      ],
      "source": [
        "a = np.append(a, [100, 200])\n",
        "print(a)\n"
      ]
    },
    {
      "cell_type": "markdown",
      "metadata": {
        "id": "mzqdom6tFB96"
      },
      "source": [
        "range() と同様に arange() で自然数の数列が生成できる。"
      ]
    },
    {
      "cell_type": "code",
      "execution_count": 6,
      "metadata": {
        "colab": {
          "base_uri": "https://localhost:8080/"
        },
        "id": "QHpAtS4GE7bO",
        "outputId": "862d2680-fd12-454d-8ddc-23bcf95f3be1"
      },
      "outputs": [
        {
          "name": "stdout",
          "output_type": "stream",
          "text": [
            "[0 1 2 3 4 5 6 7 8]\n"
          ]
        }
      ],
      "source": [
        "b = np.arange(9)\n",
        "print(b)"
      ]
    },
    {
      "cell_type": "markdown",
      "metadata": {
        "id": "nTAkTiYBFViM"
      },
      "source": [
        "linspace() --- グラフ作成で頻出のテクニック：　3 と 10　の間を4等分した**等差数列**を作る"
      ]
    },
    {
      "cell_type": "code",
      "execution_count": 7,
      "metadata": {
        "colab": {
          "base_uri": "https://localhost:8080/"
        },
        "id": "mrRU6kvAFg-P",
        "outputId": "33c520be-d7ab-4a4b-d86b-305ab44230d1"
      },
      "outputs": [
        {
          "name": "stdout",
          "output_type": "stream",
          "text": [
            "[ 3.   3.7  4.4  5.1  5.8  6.5  7.2  7.9  8.6  9.3 10. ]\n"
          ]
        }
      ],
      "source": [
        "c = np.linspace(3, 10, 11)\n",
        "print(c)"
      ]
    },
    {
      "cell_type": "markdown",
      "metadata": {
        "id": "198Dn3f9F4oV"
      },
      "source": [
        "logspace() -- 対数グラフ作成で頻出のテクニック：　10の3乗と８乗の間を対数で４等分した**等比数列を作**る"
      ]
    },
    {
      "cell_type": "code",
      "execution_count": 8,
      "metadata": {
        "colab": {
          "base_uri": "https://localhost:8080/"
        },
        "id": "FXw5YMZIGYJ_",
        "outputId": "336fda28-cf03-415a-f868-c70b8ac53258"
      },
      "outputs": [
        {
          "name": "stdout",
          "output_type": "stream",
          "text": [
            "[1.00000000e+03 1.77827941e+04 3.16227766e+05 5.62341325e+06\n",
            " 1.00000000e+08]\n"
          ]
        }
      ],
      "source": [
        "d = np.logspace(3, 8, num=5, base=10.0)\n",
        "print(d)\n"
      ]
    },
    {
      "cell_type": "code",
      "execution_count": 9,
      "metadata": {
        "colab": {
          "base_uri": "https://localhost:8080/"
        },
        "id": "wR4Jaq-uRhqU",
        "outputId": "111b956b-fa4c-46f6-ced1-8e8be9e2c209"
      },
      "outputs": [
        {
          "name": "stdout",
          "output_type": "stream",
          "text": [
            "The Zen of Python, by Tim Peters\n",
            "\n",
            "Beautiful is better than ugly.\n",
            "Explicit is better than implicit.\n",
            "Simple is better than complex.\n",
            "Complex is better than complicated.\n",
            "Flat is better than nested.\n",
            "Sparse is better than dense.\n",
            "Readability counts.\n",
            "Special cases aren't special enough to break the rules.\n",
            "Although practicality beats purity.\n",
            "Errors should never pass silently.\n",
            "Unless explicitly silenced.\n",
            "In the face of ambiguity, refuse the temptation to guess.\n",
            "There should be one-- and preferably only one --obvious way to do it.\n",
            "Although that way may not be obvious at first unless you're Dutch.\n",
            "Now is better than never.\n",
            "Although never is often better than *right* now.\n",
            "If the implementation is hard to explain, it's a bad idea.\n",
            "If the implementation is easy to explain, it may be a good idea.\n",
            "Namespaces are one honking great idea -- let's do more of those!\n"
          ]
        }
      ],
      "source": [
        "import this"
      ]
    },
    {
      "cell_type": "markdown",
      "metadata": {
        "id": "_-OHS46TLtSN"
      },
      "source": [
        "# ２次元配列、３次元配列\n",
        "\n",
        "Numpy の配列は、1次元配列(ベクトル)、2次元配列(行列) 、3次元配列、、、というように、高次元の配列を作ることができる。"
      ]
    },
    {
      "cell_type": "code",
      "execution_count": 10,
      "metadata": {
        "colab": {
          "base_uri": "https://localhost:8080/"
        },
        "id": "v5zotESxHeO1",
        "outputId": "99bdd500-63e9-4792-ca75-d3f8a29eb0c0"
      },
      "outputs": [
        {
          "name": "stdout",
          "output_type": "stream",
          "text": [
            "[[ 50  80  45]\n",
            " [ 55 100  90]]\n"
          ]
        }
      ],
      "source": [
        "# ２次元配列\n",
        "e = np.array([[50, 80, 45], [55, 100, 90]])\n",
        "print(e)"
      ]
    },
    {
      "cell_type": "markdown",
      "metadata": {
        "id": "H4l1xT-mO-7-"
      },
      "source": [
        "2次元配列は、１次元配列を並べて作る、と考えられる。\n",
        "まずは、ある生徒についての教科の点数を並べたベクトル（１次元配列）を作り、\n",
        "それをいろいろな生徒について並べて行列（２次元配列）にするというイメージの例を示そう。"
      ]
    },
    {
      "cell_type": "code",
      "execution_count": 11,
      "metadata": {
        "colab": {
          "base_uri": "https://localhost:8080/"
        },
        "id": "BAdz6h9xNb1-",
        "outputId": "ddb59160-3bf6-4b3a-bda7-70272d748a64"
      },
      "outputs": [
        {
          "data": {
            "text/plain": [
              "array([[ 50,  80,  45],\n",
              "       [ 55, 100,  95]])"
            ]
          },
          "execution_count": 11,
          "metadata": {},
          "output_type": "execute_result"
        }
      ],
      "source": [
        "s0 = np.array([50, 80, 45]) ## 数学５０，　英語80, 国語　45\n",
        "s1 = np.array([55, 100, 95]) ## 数学５5，　英語100, 国語　95\n",
        "group1 = np.array([s0, s1])\n",
        "group1"
      ]
    },
    {
      "cell_type": "code",
      "execution_count": 12,
      "metadata": {
        "colab": {
          "base_uri": "https://localhost:8080/"
        },
        "id": "o3kpz-6zQguh",
        "outputId": "cc3eb696-fc03-4266-ee1d-da90ed0948d3"
      },
      "outputs": [
        {
          "data": {
            "text/plain": [
              "(1, 2)"
            ]
          },
          "execution_count": 12,
          "metadata": {},
          "output_type": "execute_result"
        }
      ],
      "source": [
        "s0.ndim,  group1.ndim  ## .ndim で次元数が調べられる。次元数２ということは、axisが２つある"
      ]
    },
    {
      "cell_type": "code",
      "execution_count": 13,
      "metadata": {
        "colab": {
          "base_uri": "https://localhost:8080/"
        },
        "id": "p3jm53k_RgM2",
        "outputId": "afb921ba-a537-4309-8426-97a92a7e160f"
      },
      "outputs": [
        {
          "data": {
            "text/plain": [
              "(2, 3)"
            ]
          },
          "execution_count": 13,
          "metadata": {},
          "output_type": "execute_result"
        }
      ],
      "source": [
        "group1.shape  ## .shape で各軸の要素数がわかる  (axis0の要素数、axis1の要素数、、、)"
      ]
    },
    {
      "cell_type": "code",
      "execution_count": 14,
      "metadata": {
        "colab": {
          "base_uri": "https://localhost:8080/"
        },
        "id": "1oNYdMyJTxYN",
        "outputId": "d7946c19-ee51-4ecc-8e87-d743186a7552"
      },
      "outputs": [
        {
          "data": {
            "text/plain": [
              "array([105, 180, 140])"
            ]
          },
          "execution_count": 14,
          "metadata": {},
          "output_type": "execute_result"
        }
      ],
      "source": [
        "group1.sum(axis=0) ##教科ごと合計点(axis=0は生徒の並びベクトル)"
      ]
    },
    {
      "cell_type": "code",
      "execution_count": 15,
      "metadata": {
        "colab": {
          "base_uri": "https://localhost:8080/"
        },
        "id": "NEIP7dBGT1Wi",
        "outputId": "2cc1ba18-bf07-4aff-d8c9-8a0fe4dfb49f"
      },
      "outputs": [
        {
          "data": {
            "text/plain": [
              "array([175, 250])"
            ]
          },
          "execution_count": 15,
          "metadata": {},
          "output_type": "execute_result"
        }
      ],
      "source": [
        "group1.sum(axis=1)  ##それぞれの生徒について、３教科の合計点を出す（axis=1は教科の並びベクトル）"
      ]
    },
    {
      "cell_type": "code",
      "execution_count": 16,
      "metadata": {
        "colab": {
          "base_uri": "https://localhost:8080/"
        },
        "id": "NjjWlit5VtPy",
        "outputId": "5cbc35c4-a96d-48c6-ed2a-dbe3b9db50d2"
      },
      "outputs": [
        {
          "data": {
            "text/plain": [
              "array([[50, 50, 50],\n",
              "       [40, 50, 70]])"
            ]
          },
          "execution_count": 16,
          "metadata": {},
          "output_type": "execute_result"
        }
      ],
      "source": [
        "s3 = np.array([50, 50, 50]) \n",
        "s4 = np.array([40, 50, 70])\n",
        "group2 = np.array([s3, s4])\n",
        "group2"
      ]
    },
    {
      "cell_type": "code",
      "execution_count": 17,
      "metadata": {
        "colab": {
          "base_uri": "https://localhost:8080/"
        },
        "id": "QPLy3ELzXXnQ",
        "outputId": "9cc0b617-64b3-4aa0-f74b-3a6458b6c986"
      },
      "outputs": [
        {
          "data": {
            "text/plain": [
              "(2, 2, 3)"
            ]
          },
          "execution_count": 17,
          "metadata": {},
          "output_type": "execute_result"
        }
      ],
      "source": [
        "# グループを並べることで３次元化\n",
        "team = np.array([group1, group2])\n",
        "team.shape"
      ]
    },
    {
      "cell_type": "code",
      "execution_count": 18,
      "metadata": {
        "colab": {
          "base_uri": "https://localhost:8080/"
        },
        "id": "Uh3D1aNmawAF",
        "outputId": "ba854e5e-520c-41a1-f945-2f677a80f2a8"
      },
      "outputs": [
        {
          "name": "stdout",
          "output_type": "stream",
          "text": [
            "[[[ 50  80  45]\n",
            "  [ 55 100  95]]\n",
            "\n",
            " [[ 50  50  50]\n",
            "  [ 40  50  70]]]\n"
          ]
        }
      ],
      "source": [
        "print(team)"
      ]
    },
    {
      "cell_type": "code",
      "execution_count": 19,
      "metadata": {
        "colab": {
          "base_uri": "https://localhost:8080/"
        },
        "id": "HnSTddh7bLlc",
        "outputId": "3adc3f78-0a13-422f-f3aa-d06cbb2a82f8"
      },
      "outputs": [
        {
          "data": {
            "text/plain": [
              "array([[105, 180, 140],\n",
              "       [ 90, 100, 120]])"
            ]
          },
          "execution_count": 19,
          "metadata": {},
          "output_type": "execute_result"
        }
      ],
      "source": [
        "tsum = team.sum(axis=2) #３次元にしたら、教科の並びベクトルがaxis=2になっている\n",
        "tsum = team.sum(axis=1) \n",
        "tsum"
      ]
    },
    {
      "cell_type": "code",
      "execution_count": 20,
      "metadata": {
        "colab": {
          "base_uri": "https://localhost:8080/"
        },
        "id": "cGitA4ZKapCA",
        "outputId": "a8ff36ff-e90b-4b9e-e2b6-5306f1287954"
      },
      "outputs": [
        {
          "data": {
            "text/plain": [
              "(2, 3)"
            ]
          },
          "execution_count": 20,
          "metadata": {},
          "output_type": "execute_result"
        }
      ],
      "source": [
        "team.sum(axis=0).shape"
      ]
    },
    {
      "cell_type": "markdown",
      "metadata": {
        "id": "CtD-pX4VMnBH"
      },
      "source": [
        "すべての要素を0とする行列を簡単に作る方法："
      ]
    },
    {
      "cell_type": "code",
      "execution_count": 21,
      "metadata": {
        "colab": {
          "base_uri": "https://localhost:8080/"
        },
        "id": "mmJxatIVIQNq",
        "outputId": "9a245c7b-977e-4a07-8003-4146679fde27"
      },
      "outputs": [
        {
          "data": {
            "text/plain": [
              "array([[0., 0., 0., 0.],\n",
              "       [0., 0., 0., 0.],\n",
              "       [0., 0., 0., 0.]])"
            ]
          },
          "execution_count": 21,
          "metadata": {},
          "output_type": "execute_result"
        }
      ],
      "source": [
        "g = np.zeros((3,4)) # (3,4)というタプルをzeros()に渡す\n",
        "g"
      ]
    },
    {
      "cell_type": "markdown",
      "metadata": {
        "id": "ycyR2GlhI2zQ"
      },
      "source": [
        "# array の演算\n"
      ]
    },
    {
      "cell_type": "code",
      "execution_count": 22,
      "metadata": {
        "colab": {
          "base_uri": "https://localhost:8080/"
        },
        "id": "tGwiAMjZJKT5",
        "outputId": "5a404385-b808-4ab8-d4f8-0ffba69a3ef6"
      },
      "outputs": [
        {
          "data": {
            "text/plain": [
              "array([0, 1, 2, 3, 4, 5])"
            ]
          },
          "execution_count": 22,
          "metadata": {},
          "output_type": "execute_result"
        }
      ],
      "source": [
        "a = np.arange(6)\n",
        "a"
      ]
    },
    {
      "cell_type": "markdown",
      "metadata": {
        "id": "qanocZfMJaCl"
      },
      "source": [
        "**各要素に**一様に10を足すことを次のように簡単にできる。"
      ]
    },
    {
      "cell_type": "code",
      "execution_count": 23,
      "metadata": {
        "colab": {
          "base_uri": "https://localhost:8080/"
        },
        "id": "PcKFGRqfJn4k",
        "outputId": "a4ae5d61-ffaa-4714-fa73-0d92215bf287"
      },
      "outputs": [
        {
          "data": {
            "text/plain": [
              "array([10, 11, 12, 13, 14, 15])"
            ]
          },
          "execution_count": 23,
          "metadata": {},
          "output_type": "execute_result"
        }
      ],
      "source": [
        "b = a + 10\n",
        "b"
      ]
    },
    {
      "cell_type": "markdown",
      "metadata": {
        "id": "UUBr87fQJ5EO"
      },
      "source": [
        "各要素を３倍しよう。"
      ]
    },
    {
      "cell_type": "code",
      "execution_count": 24,
      "metadata": {
        "colab": {
          "base_uri": "https://localhost:8080/"
        },
        "id": "OXY_HrqEJ78P",
        "outputId": "45866f58-e93b-4735-874b-0786907f73b8"
      },
      "outputs": [
        {
          "data": {
            "text/plain": [
              "array([ 0,  3,  6,  9, 12, 15])"
            ]
          },
          "execution_count": 24,
          "metadata": {},
          "output_type": "execute_result"
        }
      ],
      "source": [
        "c = a * 3\n",
        "c"
      ]
    },
    {
      "cell_type": "markdown",
      "metadata": {
        "id": "tTcZ-TeZKH0N"
      },
      "source": [
        "array 同士の四則演算（要素数は等しい必要がある）"
      ]
    },
    {
      "cell_type": "code",
      "execution_count": 25,
      "metadata": {
        "colab": {
          "base_uri": "https://localhost:8080/"
        },
        "id": "JCiiDf55KQgW",
        "outputId": "2ab5a2b0-2ae9-4917-ba7c-858c4de77492"
      },
      "outputs": [
        {
          "data": {
            "text/plain": [
              "array([10, 14, 18, 22, 26, 30])"
            ]
          },
          "execution_count": 25,
          "metadata": {},
          "output_type": "execute_result"
        }
      ],
      "source": [
        "d = b + c\n",
        "d"
      ]
    },
    {
      "cell_type": "code",
      "execution_count": 26,
      "metadata": {
        "colab": {
          "base_uri": "https://localhost:8080/"
        },
        "id": "nb5cF7isKr97",
        "outputId": "667d460b-324d-4b8b-9e4c-135fa4ca25d5"
      },
      "outputs": [
        {
          "data": {
            "text/plain": [
              "array([  0,  33,  72, 117, 168, 225])"
            ]
          },
          "execution_count": 26,
          "metadata": {},
          "output_type": "execute_result"
        }
      ],
      "source": [
        "e = b * c\n",
        "e"
      ]
    },
    {
      "cell_type": "code",
      "execution_count": 27,
      "metadata": {
        "colab": {
          "base_uri": "https://localhost:8080/"
        },
        "id": "7MjUVIIoKydc",
        "outputId": "2f1d2f96-ea56-4545-c637-365f641fbf3d"
      },
      "outputs": [
        {
          "data": {
            "text/plain": [
              "array([10, 17, 24, 31, 38, 45])"
            ]
          },
          "execution_count": 27,
          "metadata": {},
          "output_type": "execute_result"
        }
      ],
      "source": [
        "f = b + 2*c\n",
        "f"
      ]
    },
    {
      "cell_type": "code",
      "execution_count": 28,
      "metadata": {
        "colab": {
          "base_uri": "https://localhost:8080/"
        },
        "id": "ovIhvNkdLUJp",
        "outputId": "66849918-9241-40b4-e0d6-b9335151305a"
      },
      "outputs": [
        {
          "name": "stdout",
          "output_type": "stream",
          "text": [
            "gh= [6 3 2]\n",
            "gdoth =  11  =  11\n",
            "gdoth2 =  11  =  11\n"
          ]
        }
      ],
      "source": [
        "g = np.array([3, 1, 2])\n",
        "h = np.array([2, 3, 1])\n",
        "gh = g*h # array の掛け算（アダマール積）\n",
        "gdoth = g.dot(h)       #内積\n",
        "gdoth2 = np.dot(g,h)   #内積(別の方法)\n",
        "print(\"gh=\", gh)\n",
        "print(\"gdoth = \", gdoth, \" = \", 3*2+1*3+2*1)\n",
        "print(\"gdoth2 = \", gdoth2, \" = \", 3*2+1*3+2*1)"
      ]
    },
    {
      "cell_type": "markdown",
      "metadata": {
        "id": "OPrM4qc9NZOY"
      },
      "source": [
        "# matplotlib によるグラフ作成\n",
        "二次関数 y = x**2 + 100 を x = 10--100 の範囲でプロットする。 "
      ]
    },
    {
      "cell_type": "code",
      "execution_count": 29,
      "metadata": {
        "id": "kRi7ntGWNwEe"
      },
      "outputs": [],
      "source": [
        "import numpy as np\n",
        "import matplotlib.pyplot as plt\n",
        "%matplotlib inline"
      ]
    },
    {
      "cell_type": "code",
      "execution_count": 30,
      "metadata": {
        "colab": {
          "base_uri": "https://localhost:8080/"
        },
        "id": "CF2Wogt7Pe9h",
        "outputId": "66543a1c-fd2d-4616-abcc-2ee6be72e196"
      },
      "outputs": [
        {
          "data": {
            "text/plain": [
              "array([10, 12, 14, 16, 18, 20, 22, 24, 26, 28, 30, 32, 34, 36, 38, 40, 42,\n",
              "       44, 46, 48, 50, 52, 54, 56, 58, 60, 62, 64, 66, 68, 70, 72, 74, 76,\n",
              "       78, 80, 82, 84, 86, 88, 90, 92, 94, 96, 98])"
            ]
          },
          "execution_count": 30,
          "metadata": {},
          "output_type": "execute_result"
        }
      ],
      "source": [
        "x = np.arange(10, 100, 2)\n",
        "x"
      ]
    },
    {
      "cell_type": "code",
      "execution_count": 31,
      "metadata": {
        "colab": {
          "base_uri": "https://localhost:8080/"
        },
        "id": "4B5u5r6zPuBH",
        "outputId": "d6deb2d6-cd14-48df-ab61-922f7988284d"
      },
      "outputs": [
        {
          "data": {
            "text/plain": [
              "array([ 200,  244,  296,  356,  424,  500,  584,  676,  776,  884, 1000,\n",
              "       1124, 1256, 1396, 1544, 1700, 1864, 2036, 2216, 2404, 2600, 2804,\n",
              "       3016, 3236, 3464, 3700, 3944, 4196, 4456, 4724, 5000, 5284, 5576,\n",
              "       5876, 6184, 6500, 6824, 7156, 7496, 7844, 8200, 8564, 8936, 9316,\n",
              "       9704])"
            ]
          },
          "execution_count": 31,
          "metadata": {},
          "output_type": "execute_result"
        }
      ],
      "source": [
        "y = x*x +100\n",
        "y"
      ]
    },
    {
      "cell_type": "code",
      "execution_count": 32,
      "metadata": {
        "colab": {
          "base_uri": "https://localhost:8080/",
          "height": 448
        },
        "id": "scSdfQXxP1Gt",
        "outputId": "bd4961a6-ff2a-4775-c4ee-5b6fa9e40a0c"
      },
      "outputs": [
        {
          "data": {
            "text/plain": [
              "[<matplotlib.lines.Line2D at 0x1dc8a8a0940>]"
            ]
          },
          "execution_count": 32,
          "metadata": {},
          "output_type": "execute_result"
        },
        {
          "data": {
            "image/png": "[encoded data removed]",
            "text/plain": [
              "<Figure size 640x480 with 1 Axes>"
            ]
          },
          "metadata": {},
          "output_type": "display_data"
        }
      ],
      "source": [
        "plt.plot(x,y)"
      ]
    },
    {
      "cell_type": "markdown",
      "metadata": {
        "id": "HCxeE-OSeA-W"
      },
      "source": [
        "log をとって片対数のグラフにしてみよう。 **np.log10()** で常用対数になる。y は配列であるが、np.log10(y) でｙの全要素が一様に対数になるので便利。"
      ]
    },
    {
      "cell_type": "code",
      "execution_count": 33,
      "metadata": {
        "colab": {
          "base_uri": "https://localhost:8080/",
          "height": 448
        },
        "id": "Yz9s_3uCVVGx",
        "outputId": "bf752e30-0540-4e58-d663-ca5cc8e59a85"
      },
      "outputs": [
        {
          "data": {
            "text/plain": [
              "[<matplotlib.lines.Line2D at 0x1dc8ca9aa40>]"
            ]
          },
          "execution_count": 33,
          "metadata": {},
          "output_type": "execute_result"
        },
        {
          "data": {
            "image/png": "[encoded data removed]",
            "text/plain": [
              "<Figure size 640x480 with 1 Axes>"
            ]
          },
          "metadata": {},
          "output_type": "display_data"
        }
      ],
      "source": [
        "plt.plot(x, np.log10(y))"
      ]
    },
    {
      "cell_type": "markdown",
      "metadata": {
        "id": "z4lShCFiVFnf"
      },
      "source": [
        "グラフを４つ並べるため、subplots を使ってみよう。"
      ]
    },
    {
      "cell_type": "code",
      "execution_count": 34,
      "metadata": {
        "colab": {
          "base_uri": "https://localhost:8080/",
          "height": 542
        },
        "id": "XBX0z3aQRuhk",
        "outputId": "72417c09-0b0e-4c62-857d-4f84ba4d8248"
      },
      "outputs": [
        {
          "data": {
            "text/plain": [
              "[<matplotlib.lines.Line2D at 0x1dc8caeb4c0>]"
            ]
          },
          "execution_count": 34,
          "metadata": {},
          "output_type": "execute_result"
        },
        {
          "data": {
            "image/png": "[encoded data removed]",
            "text/plain": [
              "<Figure size 800x600 with 4 Axes>"
            ]
          },
          "metadata": {},
          "output_type": "display_data"
        }
      ],
      "source": [
        "fig, axs = plt.subplots(nrows=2, ncols=2, figsize=(8, 6))\n",
        "axs[0, 0].plot(x, y) # upper left\n",
        "axs[0, 1].plot(x, -y) # upper right\n",
        "axs[1, 0].plot(x, np.log10(y)) # lower left\n",
        "axs[1, 1].plot(x, x**5) # lower right"
      ]
    },
    {
      "cell_type": "markdown",
      "metadata": {
        "id": "lVYEMq4QazXM"
      },
      "source": [
        "# ヒストグラム作成"
      ]
    },
    {
      "cell_type": "code",
      "execution_count": 35,
      "metadata": {
        "id": "-1CdXPrwa6Tj"
      },
      "outputs": [],
      "source": [
        "import numpy as np\n",
        "import matplotlib.pyplot as plt\n",
        "%matplotlib inline"
      ]
    },
    {
      "cell_type": "markdown",
      "metadata": {
        "id": "f1wVZjuLVQa1"
      },
      "source": [
        "１４人の学生の身長を測定し、168 cm, 180 cm, 171 cm, .. だったとする。頻度分布をつくるために用いるのが hist() である。"
      ]
    },
    {
      "cell_type": "code",
      "execution_count": 36,
      "metadata": {
        "colab": {
          "base_uri": "https://localhost:8080/",
          "height": 501
        },
        "id": "TErP9keKbIo0",
        "outputId": "cc1b7353-816f-4a68-85cb-5b3f03d85bba"
      },
      "outputs": [
        {
          "data": {
            "text/plain": [
              "(array([4., 2., 3., 0., 1., 2., 0., 0., 1., 1.]),\n",
              " array([163. , 166.2, 169.4, 172.6, 175.8, 179. , 182.2, 185.4, 188.6,\n",
              "        191.8, 195. ]),\n",
              " <BarContainer object of 10 artists>)"
            ]
          },
          "execution_count": 36,
          "metadata": {},
          "output_type": "execute_result"
        },
        {
          "data": {
            "image/png": "[encoded data removed]",
            "text/plain": [
              "<Figure size 640x480 with 1 Axes>"
            ]
          },
          "metadata": {},
          "output_type": "display_data"
        }
      ],
      "source": [
        "x = np.array([168, 180, 171, 177, 165, 182, 170, 163, 165, 166, 167, 190, 195, 170])\n",
        "\n",
        "plt.hist(x)\n"
      ]
    },
    {
      "cell_type": "markdown",
      "metadata": {
        "id": "h19CTL0MViiJ"
      },
      "source": [
        "上の図で、163-172 cm に３つの長方形（横が身長のレンジ、縦が頻度）がある。\n",
        "各長方形をビンとよび（正確な言い方ではないが、、）、「３つ目にビンに3人が入っている」\n",
        "のような言い方をする。\n",
        "ビンの作り方を明示的に指定するには次のようにする。\n",
        "150cmから200cmの範囲を10個のビンに分けるヒストグラムを作る方法："
      ]
    },
    {
      "cell_type": "code",
      "execution_count": 37,
      "metadata": {
        "colab": {
          "base_uri": "https://localhost:8080/",
          "height": 483
        },
        "id": "9VgW9h-VbysQ",
        "outputId": "9729674e-b7d9-4f42-bb26-fc1ab58186a4"
      },
      "outputs": [
        {
          "data": {
            "text/plain": [
              "(array([0., 0., 1., 5., 3., 1., 2., 0., 1., 1.]),\n",
              " array([150., 155., 160., 165., 170., 175., 180., 185., 190., 195., 200.]),\n",
              " <BarContainer object of 10 artists>)"
            ]
          },
          "execution_count": 37,
          "metadata": {},
          "output_type": "execute_result"
        },
        {
          "data": {
            "image/png": "[encoded data removed]",
            "text/plain": [
              "<Figure size 640x480 with 1 Axes>"
            ]
          },
          "metadata": {},
          "output_type": "display_data"
        }
      ],
      "source": [
        "MINMAX = (150, 200)\n",
        "BIN = 10\n",
        "plt.hist(x, bins=BIN, range=MINMAX)"
      ]
    },
    {
      "attachments": {},
      "cell_type": "markdown",
      "metadata": {
        "id": "AnLwxmLBVlZ4"
      },
      "source": [
        "# データ可視化の重要性\n",
        "e-Stat (政府統計の総合窓口）で学校保健統計調査の結果をダウンロードし、\n",
        "身長の分布をグラフにして可視化してみよう。\n",
        "\n",
        "* e-Statは生データは非公開でヒストグラムのみ。\n"
      ]
    },
    {
      "cell_type": "code",
      "execution_count": 38,
      "metadata": {
        "id": "2rhCxXjmYNUq"
      },
      "outputs": [],
      "source": [
        "import numpy as np\n",
        "import matplotlib.pyplot as plt\n",
        "%matplotlib inline"
      ]
    },
    {
      "cell_type": "markdown",
      "metadata": {
        "id": "oBXIHiTzbdvl"
      },
      "source": [
        "身長を x [cm] とする。 (上のセクションでも x を使ったので、同じ変数にするのは実はちょっと危険だが）"
      ]
    },
    {
      "cell_type": "code",
      "execution_count": 39,
      "metadata": {
        "id": "Sbmog0MG7bJY"
      },
      "outputs": [],
      "source": [
        "x = np.array([146, 147, 148, 149, 150, 151, 152, 153, 154, 155, 156, 157, 158,\n",
        "       159, 160, 161, 162, 163, 164, 165, 166, 167, 168, 169, 170, 171,\n",
        "       172, 173, 174, 175, 176, 177, 178, 179, 180, 181, 182, 183, 184,\n",
        "       185, 186, 187, 188, 189, 190, 191, 192, 193, 194, 195])"
      ]
    },
    {
      "cell_type": "markdown",
      "metadata": {
        "id": "F8yMa_gwbwrx"
      },
      "source": [
        "平成２８年の男子１７歳の身長頻度分布（ヒストグラム）を h28 とする。単位は‰（パーミル）で、％の1/10。\n",
        "x = 147 で、h28 = 0.1 というのは、147-148 cm (注）に全体の0.01％が入るということ。\n",
        "（注）たぶんあっているが、もしかしたら146-147 cm　かもしれないし、146.5-147.5 かもしれない。e-Stat のサイトでこの情報がみつからない。"
      ]
    },
    {
      "cell_type": "code",
      "execution_count": 40,
      "metadata": {
        "id": "OU_iuYkY8tjQ"
      },
      "outputs": [],
      "source": [
        "h28 = np.array([ 0.1,  0.1,  0.1,  0.1,  0.1,  0.3,  0.5,  0.5,  0.7,  1.7,  2. ,\n",
        "        3.7,  4.7,  9.3, 14. , 17.3, 23. , 29.7, 37.5, 42.2, 51.5, 55.9,\n",
        "       60.1, 64.6, 74.6, 69.5, 65.2, 63.1, 56.5, 50.4, 45.1, 37.3, 28.4,\n",
        "       22.1, 21.5, 14.6, 11.4,  6.6,  4.2,  3.9,  1.9,  1.4,  0.7,  1.1,\n",
        "        0.4,  0.1,  0. ,  0.2,  0.1,  0. ]) # １つ１つの値はパーセントを示す。"
      ]
    },
    {
      "cell_type": "markdown",
      "metadata": {
        "id": "ZlWLZUQNBb0i"
      },
      "source": [
        "実際は、CSV ファイルを読み込んだり、エクセルを読み込んだりして、データを入力することになるが、ここでは数値をベタ打ちした。"
      ]
    },
    {
      "cell_type": "code",
      "execution_count": 41,
      "metadata": {
        "colab": {
          "base_uri": "https://localhost:8080/",
          "height": 430
        },
        "id": "Jc_9Xx1-a_Wa",
        "outputId": "f842d649-92f2-4b29-d09d-86ace68cfd8f"
      },
      "outputs": [
        {
          "data": {
            "image/png": "[encoded data removed]",
            "text/plain": [
              "<Figure size 640x480 with 1 Axes>"
            ]
          },
          "metadata": {},
          "output_type": "display_data"
        }
      ],
      "source": [
        "plt.plot(x,h28, 'o', color='blue')\n",
        "plt.grid(True)"
      ]
    },
    {
      "attachments": {},
      "cell_type": "markdown",
      "metadata": {
        "id": "HZ2aGSig8417"
      },
      "source": [
        "170 cm に明らかに不自然な超過が見られる。（これを見て、そう思えるようになるには、訓練が必要だし、そのような目を持てる人は実は非常に少ない）\n",
        "別の年度を見てみよう。\n",
        "\n",
        "* 通常このような特徴は可視化しなければ見つけることができない。\n",
        "* このような分布を「正規分布」という。\n",
        "* "
      ]
    },
    {
      "cell_type": "markdown",
      "metadata": {
        "id": "ZrT_vzpnev-g"
      },
      "source": [
        "**平成２7年**の男子１７歳の身長頻度分布（ヒストグラム）を h27 とする。単位は‰（パーミル）.\n"
      ]
    },
    {
      "cell_type": "code",
      "execution_count": 42,
      "metadata": {
        "id": "wWteY6Ol9gyp"
      },
      "outputs": [],
      "source": [
        "h27 = np.array([ 0. ,  0. ,  0. ,  0.2,  0.2,  0.3,  0.6,  0.8,  0.6,  1.5,  1.7,\n",
        "        4.4,  4.9,  8.3, 13.5, 18.4, 22.1, 28.3, 34.8, 42. , 50.8, 57.3,\n",
        "       62.3, 61.4, 73.5, 71.2, 70.3, 65.1, 56.8, 48.8, 44.1, 38.4, 28.3,\n",
        "       23.5, 19.4, 13.8, 10.1,  7.2,  5. ,  4. ,  2.7,  1. ,  0.7,  0.4,\n",
        "        0.6,  0.3,  0.1,  0. ,  0. ,  0. ])\n",
        "#len(h27)"
      ]
    },
    {
      "cell_type": "code",
      "execution_count": 43,
      "metadata": {
        "colab": {
          "base_uri": "https://localhost:8080/",
          "height": 368
        },
        "id": "Vm1Ht9NJdJMp",
        "outputId": "04860aa6-7272-46cc-fea3-914b6b3c90cb"
      },
      "outputs": [
        {
          "data": {
            "image/png": "[encoded data removed]",
            "text/plain": [
              "<Figure size 1000x400 with 2 Axes>"
            ]
          },
          "metadata": {},
          "output_type": "display_data"
        }
      ],
      "source": [
        "fig, axs = plt.subplots(nrows=1, ncols=2, figsize=(10, 4))\n",
        "axs[0].plot(x, h28, 'o', color='black') # H28 \n",
        "axs[0].grid(True)\n",
        "axs[1].plot(x, h27, 'o', color='red') # H27\n",
        "#axs[1].plot(x, h28, 'x', color='black') # H28 を同じ図に重ねたいとき\n",
        "axs[1].grid(True)"
      ]
    },
    {
      "cell_type": "markdown",
      "metadata": {
        "id": "7FRfsR4I9v9l"
      },
      "source": [
        "案の定、169 cm と 170 cm で飛びがある。さあ、いよいよ 170 cm があやしい。これは「ずる」が行われたのではないだろうか？大台に乗っておきたいという男子高生の心理は、十分に理解できる。さらに4年分をプロットしてみよう。"
      ]
    },
    {
      "cell_type": "code",
      "execution_count": 44,
      "metadata": {
        "id": "wLultv3l-aWR"
      },
      "outputs": [],
      "source": [
        "h26 = np.array([ 0.1,  0. ,  0. ,  0.2,  0.1,  0.7,  0.5,  0.5,  1.1,  1.8,  1.9,\n",
        "        4. ,  5.7,  6.9, 11.4, 15.5, 23.6, 32. , 36.5, 46.2, 51.1, 55.4,\n",
        "       63.4, 62.1, 72.8, 70.6, 65.2, 64.3, 56.6, 50.8, 40.2, 40.5, 30.7,\n",
        "       22.1, 18.2, 13.7, 10.4,  7.7,  6. ,  3.8,  1.8,  1.3,  1.3,  0.8,\n",
        "        0.1,  0.3,  0.2,  0. ,  0. ,  0. ])\n",
        "#len(h26)"
      ]
    },
    {
      "cell_type": "code",
      "execution_count": 45,
      "metadata": {
        "id": "WOZTSIlQ-2T9"
      },
      "outputs": [],
      "source": [
        "h25 = np.array([ 0. ,  0. ,  0. ,  0.2,  0.1,  0.6,  0.5,  0.5,  0.9,  1.1,  2.7,\n",
        "        3.5,  5.3,  7.6, 11.8, 18.8, 23. , 29.4, 34.5, 43.7, 50.7, 57.6,\n",
        "       63.1, 64.9, 73.6, 66.8, 69.8, 61.4, 62.8, 51.1, 44.1, 35.2, 26.6,\n",
        "       22.1, 18.6, 13.9, 10.6,  7.2,  5.7,  4.2,  2.5,  1.1,  0.8,  0.5,\n",
        "        0.3,  0.3,  0.1,  0. ,  0. ,  0. ])\n",
        "#len(h25)"
      ]
    },
    {
      "cell_type": "code",
      "execution_count": 46,
      "metadata": {
        "colab": {
          "base_uri": "https://localhost:8080/"
        },
        "id": "tTDTCe4YGIx-",
        "outputId": "d55a8587-f9fd-4731-e9e7-633abb3e3ae3"
      },
      "outputs": [
        {
          "data": {
            "text/plain": [
              "50"
            ]
          },
          "execution_count": 46,
          "metadata": {},
          "output_type": "execute_result"
        }
      ],
      "source": [
        "h24 = np.array([ 0.2,  0. ,  0.3,  0. ,  0.7,  1. ,  1.2,  1.5,  3.6,  4.2,  9.5,\n",
        "       10.5, 13.2, 18.7, 25.2, 31.6, 36.8, 44.9, 50.5, 59. , 62.4, 67.2,\n",
        "       69.4, 65.8, 66.4, 60.5, 59.3, 48.4, 41.9, 34. , 28.2, 22.7, 15.3,\n",
        "       13.5, 10.4,  7.2,  4.3,  3.8,  2.6,  1.5,  0.8,  0.5,  0.3,  0.4,\n",
        "        0. ,  0. ,  0.1,  0.1,  0. ,  0. ])\n",
        "len(h24)"
      ]
    },
    {
      "cell_type": "code",
      "execution_count": 47,
      "metadata": {
        "id": "akYKRxzqJdzR"
      },
      "outputs": [],
      "source": [
        "h24 = np.array([ 0.1,  0. ,  0.1,  0. ,  0.1,  0.7,  0.5,  0.8,  0.9,  1.3,  3. ,\n",
        "        3.7,  5.6,  6.8, 14.6, 16.4, 23.7, 28.5, 34.5, 44. , 47.4, 55.8,\n",
        "       64.3, 62.4, 75.5, 70.4, 64.4, 63.4, 59.6, 49.6, 44.8, 36.4, 29.1,\n",
        "       23.4, 19. , 14.1, 10.4,  7.7,  4.9,  5. ,  2.8,  1.9,  0.7,  0.5,\n",
        "        0.5,  0.3,  0. ,  0.2,  0. ,  0. ])"
      ]
    },
    {
      "cell_type": "code",
      "execution_count": 48,
      "metadata": {
        "colab": {
          "base_uri": "https://localhost:8080/"
        },
        "id": "LkhX2m59GfKq",
        "outputId": "9a67aa57-3b57-4515-edfb-87d7d85fa567"
      },
      "outputs": [
        {
          "data": {
            "text/plain": [
              "50"
            ]
          },
          "execution_count": 48,
          "metadata": {},
          "output_type": "execute_result"
        }
      ],
      "source": [
        "h23 = np.array([ 0. ,  0. ,  0.2,  0.4,  0.2,  0.4,  0.7,  0.6,  1.5,  2.1,  1.6,\n",
        "        3.7,  7.3,  8. , 13.2, 16.4, 21.4, 27.4, 30.8, 46.5, 48.9, 52.9,\n",
        "       62.7, 67.4, 69.7, 73.6, 65. , 65.8, 60.3, 50.7, 43.2, 39.8, 30.1,\n",
        "       23.4, 19.9, 15.3,  9.4,  7.2,  4.6,  1.7,  2.2,  1.5,  0.6,  0.4,\n",
        "        0.7,  0.1,  0.3,  0.2,  0. ,  0. ])\n",
        "len(h23)"
      ]
    },
    {
      "cell_type": "code",
      "execution_count": 49,
      "metadata": {
        "colab": {
          "base_uri": "https://localhost:8080/",
          "height": 676
        },
        "id": "EhHVmWY1_LWN",
        "outputId": "8c25cef9-8055-4f58-aa36-4107f05468f0"
      },
      "outputs": [
        {
          "data": {
            "image/png": "[encoded data removed]",
            "text/plain": [
              "<Figure size 1000x800 with 6 Axes>"
            ]
          },
          "metadata": {},
          "output_type": "display_data"
        }
      ],
      "source": [
        "fig, axs = plt.subplots(nrows=3, ncols=2, figsize=(10, 8))\n",
        "axs[0, 0].plot(x, h28, 'o', color='black') # H28 \n",
        "axs[0, 0].grid(True)\n",
        "axs[0, 1].plot(x, h27, 'o', color='red') # H27\n",
        "axs[0, 1].grid(True)\n",
        "axs[1, 0].plot(x, h26, 'o', color='blue') # H26 \n",
        "axs[1, 0].grid(True)\n",
        "axs[1, 1].plot(x, h25, 'o', color='orange') # H25\n",
        "axs[1, 1].grid(True)\n",
        "axs[2, 0].plot(x, h24, 'o', color='purple') # H24 \n",
        "axs[2, 0].grid(True)\n",
        "axs[2, 1].plot(x, h23, 'o', color='gold') # H23\n",
        "axs[2, 1].grid(True)"
      ]
    },
    {
      "cell_type": "markdown",
      "metadata": {
        "id": "LAhXzGcGAShk"
      },
      "source": [
        "6年のうち５つの年で共通して 170 cm の飛びが見られ、かつ 169 cm の凹みも見られる。\n",
        "**「男子高３生の見栄で 170 cmで飛びが生じる」**仮説（いわゆる内山仮説）は、なかなか有力と言えよう。\n",
        "(一番古いH23のデータではなぜかこの効果が見られないので、H22以前も見ておくべきだろう）\n",
        "\n",
        "ばらつきを抑えるために６年分の平均をとると、169-170 の構造は非常にはっきりと確認できる。\n"
      ]
    },
    {
      "cell_type": "code",
      "execution_count": 50,
      "metadata": {
        "colab": {
          "base_uri": "https://localhost:8080/",
          "height": 430
        },
        "id": "Kzu2310kAxU1",
        "outputId": "38a4392d-230a-4fa6-a376-e1cf4d64f88b"
      },
      "outputs": [
        {
          "data": {
            "image/png": "[encoded data removed]",
            "text/plain": [
              "<Figure size 640x480 with 1 Axes>"
            ]
          },
          "metadata": {},
          "output_type": "display_data"
        }
      ],
      "source": [
        "plt.plot(x, (h23+h24+h25+h26+h27+h28)/6., 'o', color='purple')\n",
        "plt.grid(True)"
      ]
    },
    {
      "cell_type": "markdown",
      "metadata": {
        "id": "QgHzVVDjMi0c"
      },
      "source": [
        "ついでに、ガウス分布（正規分布）であることを視覚的に確認するために、平均身長 (h23) の170.7 cmを使って、次のようなプロットを作ると、見事に直線が現れる。たしかにガウシアンライクである。（なお、log をとるところで簡易的に log(0) を回避するために、非常に小さい数δを足している。） ガウス分布の数式を見て、直線になる理由を考えよう。\n",
        "(よく見ると、185 cm 程度から上で、ガウス分布からのズレが見える気がする。\n",
        "確認する価値はあるだろう）\n",
        "\n"
      ]
    },
    {
      "cell_type": "code",
      "execution_count": 51,
      "metadata": {
        "colab": {
          "base_uri": "https://localhost:8080/",
          "height": 374
        },
        "id": "EfwnD1LTKd1m",
        "outputId": "2e2a6c5e-7f94-4951-9fe0-0276fcb00805"
      },
      "outputs": [
        {
          "data": {
            "image/png": "[encoded data removed]",
            "text/plain": [
              "<Figure size 1000x400 with 2 Axes>"
            ]
          },
          "metadata": {},
          "output_type": "display_data"
        }
      ],
      "source": [
        "h23_mean = 170.7\n",
        "xx = (x-h23_mean)*(x-h23_mean)\n",
        "delta = 0.0000001\n",
        "h_sum = (h23+h24+h25+h26+h27+h28)/6.0+delta\n",
        "fig, axs = plt.subplots(nrows=1, ncols=2, figsize=(10, 4))\n",
        "axs[0].plot(x[5:24], h_sum[5:24], 'o', color='gray')    # [:24] によって前半のみプロット\n",
        "axs[0].plot(x[24:45], h_sum[24:45], 'o', color='black') \n",
        "axs[0].grid(True)\n",
        "axs[1].plot(xx[5:24], np.log(h_sum)[5:24], 'o', color='pink') \n",
        "axs[1].plot(xx[24:45], np.log(h_sum)[24:45], 'o', color='red') \n",
        "axs[1].set_xlim(-10, 400)     #x軸の範囲指定\n",
        "axs[1].set_ylim(-1, 5)         #y軸の範囲指定\n",
        "axs[1].grid(True)"
      ]
    },
    {
      "cell_type": "markdown",
      "metadata": {
        "id": "riGXqdgfZUEU"
      },
      "source": [
        "最後にマジックコマンド **whos** を使って、どんな変数が机に乗っているか、見ておこう。"
      ]
    },
    {
      "cell_type": "code",
      "execution_count": 52,
      "metadata": {
        "colab": {
          "base_uri": "https://localhost:8080/"
        },
        "id": "y0Kr1R9rZRiV",
        "outputId": "47dd5114-114f-47bd-91e4-93c16cb0e20d"
      },
      "outputs": [
        {
          "name": "stdout",
          "output_type": "stream",
          "text": [
            "Variable   Type       Data/Info\n",
            "-------------------------------\n",
            "BIN        int        10\n",
            "MINMAX     tuple      n=2\n",
            "a          ndarray    6: 6 elems, type `int32`, 24 bytes\n",
            "axs        ndarray    2: 2 elems, type `object`, 16 bytes\n",
            "b          ndarray    6: 6 elems, type `int32`, 24 bytes\n",
            "c          ndarray    6: 6 elems, type `int32`, 24 bytes\n",
            "d          ndarray    6: 6 elems, type `int32`, 24 bytes\n",
            "delta      float      1e-07\n",
            "e          ndarray    6: 6 elems, type `int32`, 24 bytes\n",
            "f          ndarray    6: 6 elems, type `int32`, 24 bytes\n",
            "fig        Figure     Figure(1000x400)\n",
            "g          ndarray    3: 3 elems, type `int32`, 12 bytes\n",
            "gdoth      int32      11\n",
            "gdoth2     int32      11\n",
            "gh         ndarray    3: 3 elems, type `int32`, 12 bytes\n",
            "group1     ndarray    2x3: 6 elems, type `int32`, 24 bytes\n",
            "group2     ndarray    2x3: 6 elems, type `int32`, 24 bytes\n",
            "h          ndarray    3: 3 elems, type `int32`, 12 bytes\n",
            "h23        ndarray    50: 50 elems, type `float64`, 400 bytes\n",
            "h23_mean   float      170.7\n",
            "h24        ndarray    50: 50 elems, type `float64`, 400 bytes\n",
            "h25        ndarray    50: 50 elems, type `float64`, 400 bytes\n",
            "h26        ndarray    50: 50 elems, type `float64`, 400 bytes\n",
            "h27        ndarray    50: 50 elems, type `float64`, 400 bytes\n",
            "h28        ndarray    50: 50 elems, type `float64`, 400 bytes\n",
            "h_sum      ndarray    50: 50 elems, type `float64`, 400 bytes\n",
            "np         module     <module 'numpy' from 'c:\\<...>ges\\\\numpy\\\\__init__.py'>\n",
            "plt        module     <module 'matplotlib.pyplo<...>\\\\matplotlib\\\\pyplot.py'>\n",
            "s0         ndarray    3: 3 elems, type `int32`, 12 bytes\n",
            "s1         ndarray    3: 3 elems, type `int32`, 12 bytes\n",
            "s3         ndarray    3: 3 elems, type `int32`, 12 bytes\n",
            "s4         ndarray    3: 3 elems, type `int32`, 12 bytes\n",
            "team       ndarray    2x2x3: 12 elems, type `int32`, 48 bytes\n",
            "this       module     <module 'this' from 'c:\\\\<...>s\\\\3.10.5\\\\lib\\\\this.py'>\n",
            "tsum       ndarray    2x3: 6 elems, type `int32`, 24 bytes\n",
            "x          ndarray    50: 50 elems, type `int32`, 200 bytes\n",
            "xx         ndarray    50: 50 elems, type `float64`, 400 bytes\n",
            "y          ndarray    45: 45 elems, type `int32`, 180 bytes\n"
          ]
        }
      ],
      "source": [
        "%whos"
      ]
    }
  ],
  "metadata": {
    "colab": {
      "provenance": []
    },
    "kernelspec": {
      "display_name": "Python 3",
      "name": "python3"
    },
    "language_info": {
      "codemirror_mode": {
        "name": "ipython",
        "version": 3
      },
      "file_extension": ".py",
      "mimetype": "text/x-python",
      "name": "python",
      "nbconvert_exporter": "python",
      "pygments_lexer": "ipython3",
      "version": "3.10.5"
    }
  },
  "nbformat": 4,
  "nbformat_minor": 0
}
